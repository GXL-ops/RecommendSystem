{
 "cells": [
  {
   "cell_type": "markdown",
   "metadata": {},
   "source": [
    "## 第一个推荐系统——获取所有用户并随机选取1000个"
   ]
  },
  {
   "cell_type": "code",
   "execution_count": 1,
   "metadata": {},
   "outputs": [],
   "source": [
    "import os\n",
    "import json\n",
    "import random\n",
    "import math"
   ]
  },
  {
   "cell_type": "code",
   "execution_count": null,
   "metadata": {},
   "outputs": [],
   "source": [
    "class FirstRoc:\n",
    "    \n",
    "    def __init__(self, file_path, seed, k, n_items):\n",
    "        self.file_path = file_path\n",
    "        self.users_1000 = self.__select_1000_users()\n",
    "        self.seed = seed\n",
    "        self.k = k\n",
    "        self.n_items = n_items\n",
    "        self.train, self.train = \n",
    "    \n",
    "    # 获取所有用户并随机选取1000个\n",
    "    def __select_1000_users(self):\n",
    "        print(\"随机选取1000个用户！\")\n",
    "        if os.path.exists(\"./data/train.json\") and os.path.exists(\"./data/test.json\"):\n",
    "            return list()\n",
    "        else:\n",
    "            users = set()\n",
    "            # 获取所有用户\n",
    "            for file in os.listdir(self.file_path):\n",
    "                one_path = \"{}/{}\".format(self.file_path, file)\n",
    "                print(\"{}\".format(one_path))\n",
    "                with open(one_path, \"r\") as fp:\n",
    "                    for line in fp.readlines():\n",
    "                        if line.strip().endswith(\":\"):\n",
    "                            continue\n",
    "                        userID, _, _ = line.split(\",\")\n",
    "                        users.add(userID)\n",
    "        # 随机选取1000个\n",
    "        users_1000 = random.sample(list(users), 1000)\n",
    "        print(users_1000)\n",
    "        return users_1000"
   ]
  }
 ],
 "metadata": {
  "kernelspec": {
   "display_name": "Python 3",
   "language": "python",
   "name": "python3"
  },
  "language_info": {
   "codemirror_mode": {
    "name": "ipython",
    "version": 3
   },
   "file_extension": ".py",
   "mimetype": "text/x-python",
   "name": "python",
   "nbconvert_exporter": "python",
   "pygments_lexer": "ipython3",
   "version": "3.7.3"
  }
 },
 "nbformat": 4,
 "nbformat_minor": 2
}
