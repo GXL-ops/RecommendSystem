{
 "cells": [
  {
   "cell_type": "code",
   "execution_count": 58,
   "metadata": {
    "pycharm": {
     "is_executing": false
    }
   },
   "outputs": [],
   "source": [
    "import numpy as np\n",
    "import os\n",
    "import pandas as pd\n",
    "\n",
    "from sklearn.model_selection import train_test_split\n",
    "from sklearn.ensemble import GradientBoostingClassifier\n",
    "from sklearn.metrics import mean_squared_error\n",
    "from sklearn import metrics"
   ]
  },
  {
   "cell_type": "markdown",
   "metadata": {},
   "source": [
    "## 准备数据"
   ]
  },
  {
   "cell_type": "code",
   "execution_count": 70,
   "metadata": {},
   "outputs": [],
   "source": [
    "class ChurnPredWithGBDT:\n",
    "    \n",
    "    def __init__(self):\n",
    "        self.file = \"./data/new-churn.csv\"\n",
    "        self.new_file = \"./data/new_churn.csv\"\n",
    "        self.new_file_1 = \"./data/new_churn1.csv\"\n",
    "        self.feature_dict = self.feature_dict()\n",
    "        self.data = self.feature_transform()\n",
    "        self.data_1 = self.feature_transform_1()\n",
    "        self.features, self.train, self.test = self.split_data()\n",
    "        \n",
    "    # 空缺值以0填充\n",
    "    def isNone(self, value):\n",
    "        if value == \" \" or value is None:\n",
    "            return \"0.0\"\n",
    "        else:\n",
    "            return value\n",
    "    \n",
    "    # 定义特征转换字典\n",
    "    def feature_dict(self):\n",
    "        feature_dict = {\n",
    "            \"gender\":{\"Male\":\"1\", \"Female\":\"0\"},\n",
    "            \"Partner\":{\"Yes\":\"1\", \"No\":\"0\"},\n",
    "            \"Dependents\":{\"Yes\":\"1\", \"No\":\"0\"},\n",
    "            \"PhoneService\":{\"Yes\":\"1\", \"No\":\"0\"},\n",
    "            \"MultipleLines\":{\"Yes\":\"1\",\"No\":\"0\",\"No phone service\":\"2\"},\n",
    "            \"InternetService\":{\"DSL\":\"1\",\"Fiber optic\":\"2\",\"No\":\"0\"},\n",
    "            \"OnlineSecurity\":{\"Yes\":\"1\",\"No\":\"0\",\"No internet service\":\"2\"},\n",
    "            \"OnlineBackup\":{\"Yes\":\"1\",\"No\":\"0\",\"No internet service\":\"2\"},\n",
    "            \"DeviceProtection\":{\"Yes\":\"1\",\"No\":\"0\",\"No internet service\":\"2\"},\n",
    "            \"TechSupport\":{\"Yes\":\"1\",\"No\":\"0\",\"No internet service\":\"2\"},\n",
    "            \"StreamingTV\":{\"Yes\":\"1\",\"No\":\"0\",\"No internet service\":\"2\"},\n",
    "            \"StreamingMovies\":{\"Yes\":\"1\",\"No\":\"0\",\"No internet service\":\"2\"},\n",
    "            \"Contract\":{\"Month-to-month\":\"0\",\"One year\":\"1\",\"Two year\":\"2\"},\n",
    "            \"PaperlessBilling\":{\"Yes\":\"1\",\"No\":\"0\"},\n",
    "            \"PaymentMethod\":{\n",
    "                \"Electronic check\":\"0\",\n",
    "                \"Mailed check\":\"1\",\n",
    "                \"Bank transfer (automatic)\":\"2\",\n",
    "                \"Credit card (automatic)\":\"3\",\n",
    "            },\n",
    "            \"Churn\":{\"Yes\":\"1\",\"No\":\"0\"},\n",
    "        }\n",
    "        return feature_dict\n",
    "\n",
    "    # 特征转换(方法一)\n",
    "    def feature_transform(self):\n",
    "        if not os.path.exists(self.new_file_1):\n",
    "            df = pd.read_csv(self.file)\n",
    "            print(\"Start Feature Transform …\")\n",
    "            # 定义特征转换字典\n",
    "            feature_dict = self.feature_dict\n",
    "            for k in df.keys():\n",
    "                if k in feature_dict:\n",
    "                    df[k] = df[k].apply(lambda x: feature_dict[k][x])\n",
    "                else:\n",
    "                    df[k] = df[k].apply(lambda x: self.isNone(x))\n",
    "            df.to_csv(self.new_file_1)\n",
    "        return pd.read_csv(self.new_file_1)\n",
    "    \n",
    "    # 特征转换(方法二)\n",
    "    def feature_transform_1(self):\n",
    "        if not os.path.exists(self.new_file):\n",
    "            print(\"Start Feature Transform …\")\n",
    "            # 定义特征转换字典\n",
    "            feature_dict = self.feature_dict\n",
    "            fw = open(self.new_file, \"w\")\n",
    "            fw.write(\"customerID,gender,SeniorCitizen,Partner,Dependents,tenure,PhoneService,MultipleLines,\"\n",
    "                     \"InternetService,OnlineSecurity,OnlineBackup,DeviceProtection,TechSupport,StreamingTV,\"\n",
    "                     \"StreamingMovies,Contract,PaperlessBilling,PaymentMethod,MonthlyCharges,TotalCharges,Churn\")\n",
    "            fw.write(\"\\n\")\n",
    "            for line in open(self.file, \"r\").readlines():\n",
    "                if line.startswith(\"customerID\"):\n",
    "                    continue\n",
    "                customerID,gender,SeniorCitizen,Partner,Dependents,tenure,PhoneService,MultipleLines,InternetService,OnlineSecurity,\\\n",
    "                OnlineBackup,DeviceProtection,TechSupport,StreamingTV,StreamingMovies,Contract,PaperlessBilling,PaymentMethod,\\\n",
    "                MonthlyCharges,TotalCharges,Churn = line.strip().split(\",\")\n",
    "                _list = list()\n",
    "                _list.append(customerID)\n",
    "                _list.append(self.isNone(feature_dict[\"gender\"][gender]))\n",
    "                _list.append(self.isNone(SeniorCitizen))\n",
    "                _list.append(self.isNone(feature_dict[\"Partner\"][Partner]))\n",
    "                _list.append(self.isNone(feature_dict[\"Dependents\"][Dependents]))\n",
    "                _list.append(self.isNone(tenure))\n",
    "                _list.append(self.isNone(feature_dict[\"PhoneService\"][PhoneService]))\n",
    "                _list.append(self.isNone(feature_dict[\"MultipleLines\"][MultipleLines]))\n",
    "                _list.append(self.isNone(feature_dict[\"InternetService\"][InternetService]))\n",
    "                _list.append(self.isNone(feature_dict[\"OnlineSecurity\"][OnlineSecurity]))\n",
    "                _list.append(self.isNone(feature_dict[\"OnlineBackup\"][OnlineBackup]))\n",
    "                _list.append(self.isNone(feature_dict[\"DeviceProtection\"][DeviceProtection]))\n",
    "                _list.append(self.isNone(feature_dict[\"TechSupport\"][TechSupport]))\n",
    "                _list.append(self.isNone(feature_dict[\"StreamingTV\"][StreamingTV]))\n",
    "                _list.append(self.isNone(feature_dict[\"StreamingMovies\"][StreamingMovies]))\n",
    "                _list.append(self.isNone(feature_dict[\"Contract\"][Contract]))\n",
    "                _list.append(self.isNone(feature_dict[\"PaperlessBilling\"][PaperlessBilling]))\n",
    "                _list.append(self.isNone(feature_dict[\"PaymentMethod\"][PaymentMethod]))\n",
    "                _list.append(self.isNone(MonthlyCharges))\n",
    "                _list.append(self.isNone(TotalCharges))\n",
    "                _list.append(feature_dict[\"Churn\"][Churn])\n",
    "                fw.write(\",\".join(_list))\n",
    "                fw.write(\"\\n\")\n",
    "            return pd.read_csv(self.new_file)\n",
    "        else:\n",
    "            return pd.read_csv(self.new_file)\n",
    "        \n",
    "    # 拆分数据集\n",
    "    def split_data(self):\n",
    "        data = self.feature_transform()\n",
    "        features = [x for x in data.keys() if x not in [\"customerID\", \"Churn\"]]\n",
    "        train, test = train_test_split(data, test_size=0.1, random_state=40)\n",
    "        return features, train, test\n",
    "    \n",
    "    # 使用GBDT算法训练模型\n",
    "    def train_model(self):\n",
    "        print(\"Start Train Model...\")\n",
    "        x_train = self.train[self.features]\n",
    "        y_train = self.train[\"Churn\"]\n",
    "        gdbc = GradientBoostingClassifier(learning_rate=0.1, n_estimators=200, max_depth=6)\n",
    "        gdbc.fit(x_train, y_train)\n",
    "        print(\"End Train Model.\")\n",
    "        return gdbc\n",
    "    \n",
    "    # 效果评估\n",
    "    def evaluate(self, gbdt):\n",
    "        x_test = self.test[self.features]\n",
    "        y_test = self.test[\"Churn\"]\n",
    "        y_pred = gbdt.predict_proba(x_test)\n",
    "        new_y_pred = list()\n",
    "        for y in y_pred:\n",
    "            new_y_pred.append(1 if y[1] > 0.5 else 0)\n",
    "        mse = mean_squared_error(y_test, new_y_pred)\n",
    "        print(\"MSE: %.4f\" % mse)\n",
    "        accuracy = metrics.accuracy_score(y_test, new_y_pred)\n",
    "        print(\"Accuracy: %.4g\" % accuracy)\n",
    "        auc = metrics.roc_auc_score(y_test, new_y_pred)\n",
    "        print(\"AUC Score: %.4g\" % auc)"
   ]
  },
  {
   "cell_type": "markdown",
   "metadata": {},
   "source": [
    "数据集拆分"
   ]
  },
  {
   "cell_type": "code",
   "execution_count": 71,
   "metadata": {},
   "outputs": [
    {
     "name": "stdout",
     "output_type": "stream",
     "text": [
      "Start Train Model...\n",
      "End Train Model.\n"
     ]
    }
   ],
   "source": [
    "x = ready_data()\n",
    "gdbc = x.train_model()"
   ]
  },
  {
   "cell_type": "code",
   "execution_count": 72,
   "metadata": {},
   "outputs": [
    {
     "name": "stdout",
     "output_type": "stream",
     "text": [
      "MSE: 0.2326\n",
      "Accuracy: 0.7674\n",
      "AUC Score: 0.691\n"
     ]
    }
   ],
   "source": [
    "x.evaluate(gdbc)"
   ]
  },
  {
   "cell_type": "code",
   "execution_count": null,
   "metadata": {},
   "outputs": [],
   "source": []
  }
 ],
 "metadata": {
  "kernelspec": {
   "display_name": "Python 3",
   "language": "python",
   "name": "python3"
  },
  "language_info": {
   "codemirror_mode": {
    "name": "ipython",
    "version": 3
   },
   "file_extension": ".py",
   "mimetype": "text/x-python",
   "name": "python",
   "nbconvert_exporter": "python",
   "pygments_lexer": "ipython3",
   "version": "3.7.3"
  },
  "pycharm": {
   "stem_cell": {
    "cell_type": "raw",
    "metadata": {
     "collapsed": false
    },
    "source": []
   }
  }
 },
 "nbformat": 4,
 "nbformat_minor": 2
}
