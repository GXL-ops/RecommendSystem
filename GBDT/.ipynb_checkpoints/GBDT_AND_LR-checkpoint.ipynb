{
 "cells": [
  {
   "cell_type": "code",
   "execution_count": 1,
   "metadata": {
    "pycharm": {
     "is_executing": false
    }
   },
   "outputs": [
    {
     "name": "stderr",
     "output_type": "stream",
     "text": [
      "D:\\ProgramData\\Anaconda3\\lib\\importlib\\_bootstrap.py:219: RuntimeWarning: numpy.ufunc size changed, may indicate binary incompatibility. Expected 192 from C header, got 216 from PyObject\n",
      "  return f(*args, **kwds)\n",
      "D:\\ProgramData\\Anaconda3\\lib\\importlib\\_bootstrap.py:219: RuntimeWarning: numpy.ufunc size changed, may indicate binary incompatibility. Expected 192 from C header, got 216 from PyObject\n",
      "  return f(*args, **kwds)\n",
      "D:\\ProgramData\\Anaconda3\\lib\\importlib\\_bootstrap.py:219: RuntimeWarning: numpy.ufunc size changed, may indicate binary incompatibility. Expected 192 from C header, got 216 from PyObject\n",
      "  return f(*args, **kwds)\n"
     ]
    }
   ],
   "source": [
    "import numpy as np\n",
    "import os\n",
    "import pandas as pd\n",
    "\n",
    "from sklearn import metrics\n",
    "from sklearn.metrics import mean_squared_error\n",
    "from sklearn.ensemble import GradientBoostingClassifier\n",
    "from sklearn.linear_model import LogisticRegression\n",
    "from sklearn.preprocessing import OneHotEncoder\n",
    "from sklearn.model_selection import train_test_split"
   ]
  },
  {
   "cell_type": "markdown",
   "metadata": {},
   "source": [
    "## 准备数据"
   ]
  },
  {
   "cell_type": "code",
   "execution_count": 23,
   "metadata": {},
   "outputs": [],
   "source": [
    "class ChurnPredWithGBDTAndLR:\n",
    "    \n",
    "    def __init__(self):\n",
    "        self.file = \"./data/new-churn.csv\"\n",
    "        self.new_file = \"./data/new_churn.csv\"\n",
    "        self.new_file_1 = \"./data/new_churn1.csv\"\n",
    "        self.feature_dict = self.feature_dict()\n",
    "        self.data = self.feature_transform()\n",
    "        self.data_1 = self.feature_transform_1()\n",
    "        self.features, self.train, self.test = self.split_data()\n",
    "        \n",
    "    # 空缺值以0填充\n",
    "    def isNone(self, value):\n",
    "        if value == \" \" or value is None:\n",
    "            return \"0.0\"\n",
    "        else:\n",
    "            return value\n",
    "    \n",
    "    # 定义特征转换字典\n",
    "    def feature_dict(self):\n",
    "        feature_dict = {\n",
    "            \"gender\":{\"Male\":\"1\", \"Female\":\"0\"},\n",
    "            \"Partner\":{\"Yes\":\"1\", \"No\":\"0\"},\n",
    "            \"Dependents\":{\"Yes\":\"1\", \"No\":\"0\"},\n",
    "            \"PhoneService\":{\"Yes\":\"1\", \"No\":\"0\"},\n",
    "            \"MultipleLines\":{\"Yes\":\"1\",\"No\":\"0\",\"No phone service\":\"2\"},\n",
    "            \"InternetService\":{\"DSL\":\"1\",\"Fiber optic\":\"2\",\"No\":\"0\"},\n",
    "            \"OnlineSecurity\":{\"Yes\":\"1\",\"No\":\"0\",\"No internet service\":\"2\"},\n",
    "            \"OnlineBackup\":{\"Yes\":\"1\",\"No\":\"0\",\"No internet service\":\"2\"},\n",
    "            \"DeviceProtection\":{\"Yes\":\"1\",\"No\":\"0\",\"No internet service\":\"2\"},\n",
    "            \"TechSupport\":{\"Yes\":\"1\",\"No\":\"0\",\"No internet service\":\"2\"},\n",
    "            \"StreamingTV\":{\"Yes\":\"1\",\"No\":\"0\",\"No internet service\":\"2\"},\n",
    "            \"StreamingMovies\":{\"Yes\":\"1\",\"No\":\"0\",\"No internet service\":\"2\"},\n",
    "            \"Contract\":{\"Month-to-month\":\"0\",\"One year\":\"1\",\"Two year\":\"2\"},\n",
    "            \"PaperlessBilling\":{\"Yes\":\"1\",\"No\":\"0\"},\n",
    "            \"PaymentMethod\":{\n",
    "                \"Electronic check\":\"0\",\n",
    "                \"Mailed check\":\"1\",\n",
    "                \"Bank transfer (automatic)\":\"2\",\n",
    "                \"Credit card (automatic)\":\"3\",\n",
    "            },\n",
    "            \"Churn\":{\"Yes\":\"1\",\"No\":\"0\"},\n",
    "        }\n",
    "        return feature_dict\n",
    "\n",
    "    # 特征转换(方法一)\n",
    "    def feature_transform(self):\n",
    "        if not os.path.exists(self.new_file_1):\n",
    "            df = pd.read_csv(self.file)\n",
    "            print(\"Start Feature Transform …\")\n",
    "            # 定义特征转换字典\n",
    "            feature_dict = self.feature_dict\n",
    "            for k in df.keys():\n",
    "                if k in feature_dict:\n",
    "                    df[k] = df[k].apply(lambda x: feature_dict[k][x])\n",
    "                else:\n",
    "                    df[k] = df[k].apply(lambda x: self.isNone(x))\n",
    "            df.to_csv(self.new_file_1)\n",
    "        return pd.read_csv(self.new_file_1)\n",
    "    \n",
    "    # 特征转换(方法二)\n",
    "    def feature_transform_1(self):\n",
    "        if not os.path.exists(self.new_file):\n",
    "            print(\"Start Feature Transform …\")\n",
    "            # 定义特征转换字典\n",
    "            feature_dict = self.feature_dict\n",
    "            fw = open(self.new_file, \"w\")\n",
    "            fw.write(\"customerID,gender,SeniorCitizen,Partner,Dependents,tenure,PhoneService,MultipleLines,\"\n",
    "                     \"InternetService,OnlineSecurity,OnlineBackup,DeviceProtection,TechSupport,StreamingTV,\"\n",
    "                     \"StreamingMovies,Contract,PaperlessBilling,PaymentMethod,MonthlyCharges,TotalCharges,Churn\")\n",
    "            fw.write(\"\\n\")\n",
    "            for line in open(self.file, \"r\").readlines():\n",
    "                if line.startswith(\"customerID\"):\n",
    "                    continue\n",
    "                customerID,gender,SeniorCitizen,Partner,Dependents,tenure,PhoneService,MultipleLines,InternetService,OnlineSecurity,\\\n",
    "                OnlineBackup,DeviceProtection,TechSupport,StreamingTV,StreamingMovies,Contract,PaperlessBilling,PaymentMethod,\\\n",
    "                MonthlyCharges,TotalCharges,Churn = line.strip().split(\",\")\n",
    "                _list = list()\n",
    "                _list.append(customerID)\n",
    "                _list.append(self.isNone(feature_dict[\"gender\"][gender]))\n",
    "                _list.append(self.isNone(SeniorCitizen))\n",
    "                _list.append(self.isNone(feature_dict[\"Partner\"][Partner]))\n",
    "                _list.append(self.isNone(feature_dict[\"Dependents\"][Dependents]))\n",
    "                _list.append(self.isNone(tenure))\n",
    "                _list.append(self.isNone(feature_dict[\"PhoneService\"][PhoneService]))\n",
    "                _list.append(self.isNone(feature_dict[\"MultipleLines\"][MultipleLines]))\n",
    "                _list.append(self.isNone(feature_dict[\"InternetService\"][InternetService]))\n",
    "                _list.append(self.isNone(feature_dict[\"OnlineSecurity\"][OnlineSecurity]))\n",
    "                _list.append(self.isNone(feature_dict[\"OnlineBackup\"][OnlineBackup]))\n",
    "                _list.append(self.isNone(feature_dict[\"DeviceProtection\"][DeviceProtection]))\n",
    "                _list.append(self.isNone(feature_dict[\"TechSupport\"][TechSupport]))\n",
    "                _list.append(self.isNone(feature_dict[\"StreamingTV\"][StreamingTV]))\n",
    "                _list.append(self.isNone(feature_dict[\"StreamingMovies\"][StreamingMovies]))\n",
    "                _list.append(self.isNone(feature_dict[\"Contract\"][Contract]))\n",
    "                _list.append(self.isNone(feature_dict[\"PaperlessBilling\"][PaperlessBilling]))\n",
    "                _list.append(self.isNone(feature_dict[\"PaymentMethod\"][PaymentMethod]))\n",
    "                _list.append(self.isNone(MonthlyCharges))\n",
    "                _list.append(self.isNone(TotalCharges))\n",
    "                _list.append(feature_dict[\"Churn\"][Churn])\n",
    "                fw.write(\",\".join(_list))\n",
    "                fw.write(\"\\n\")\n",
    "            return pd.read_csv(self.new_file)\n",
    "        else:\n",
    "            return pd.read_csv(self.new_file)\n",
    "        \n",
    "    # 拆分数据集\n",
    "    def split_data(self):\n",
    "        data = self.feature_transform()\n",
    "        features = [x for x in data.keys() if x not in [\"customerID\", \"Churn\"]]\n",
    "        train, test = train_test_split(data, test_size=0.1, random_state=40)\n",
    "        return features, train, test\n",
    "    \n",
    "    # 使用GBDT算法训练模型\n",
    "    def train_model(self):\n",
    "        print(\"Start Train Model...\")\n",
    "        x_train = self.train[self.features]\n",
    "        y_train = self.train[\"Churn\"]\n",
    "        \n",
    "        gbdt = GradientBoostingClassifier()\n",
    "        gbdt.fit(x_train, y_train)\n",
    "        \n",
    "        # 模型融合\n",
    "        gbdt_lr = LogisticRegression()\n",
    "        enc = OneHotEncoder()\n",
    "        print(gbdt.apply(x_train).shape)\n",
    "        print(gbdt.apply(x_train).reshape(-1, 100).shape)\n",
    "        \n",
    "        # 100为n_estimators,迭代次数\n",
    "        enc.fit(gbdt.apply(x_train).reshape(-1, 100))\n",
    "        # 通过GBDT算法产生的决策树的路径直接作为LR的输入特征使用\n",
    "        gbdt_lr.fit(enc.transform(gbdt.apply(x_train).reshape(-1, 100)), y_train)\n",
    "        print(\"End Train Model.\")\n",
    "        return enc, gbdt, gbdt_lr\n",
    "    \n",
    "    # 效果评估\n",
    "    def evaluate(self, enc, gbdt, gdbt_lr):\n",
    "        x_test = self.test[self.features]\n",
    "        y_test = self.test[\"Churn\"]\n",
    "        y_gbdt_pred = gbdt.predict_proba(x_test)\n",
    "        new_gbdt_y_pred = list()\n",
    "        for y in y_gbdt_pred:\n",
    "            new_gbdt_y_pred.append(1 if y[1] > 0.5 else 0)\n",
    "        mse = mean_squared_error(y_test, new_gbdt_y_pred)\n",
    "        print(\"GBDT MSE: %.4f\" % mse)\n",
    "        accuracy = metrics.accuracy_score(y_test, new_gbdt_y_pred)\n",
    "        print(\"GBDT Accuracy: %.4g\" % accuracy)\n",
    "        auc = metrics.roc_auc_score(y_test, new_gbdt_y_pred)\n",
    "        print(\"GBDT AUC Score: %.4g\" % auc)\n",
    "        \n",
    "        gbdt_lr_y_pred = gbdt_lr.predict_proba(enc.transform(gbdt.apply(x_test).reshape(-1, 100)))\n",
    "        new_gbdt_lr_y_pred = list()\n",
    "        for y in gbdt_lr_y_pred:\n",
    "            new_gbdt_lr_y_pred.append(1 if y[1] > 0.5 else 0)\n",
    "        mse = mean_squared_error(y_test, new_gbdt_lr_y_pred)\n",
    "        print(\"GBDT-LR MSE: %.4f\" % mse)\n",
    "        accuracy = metrics.accuracy_score(y_test, new_gbdt_lr_y_pred)\n",
    "        print(\"GBDT-LR Accuracy: %.4g\" % accuracy)\n",
    "        auc = metrics.roc_auc_score(y_test, new_gbdt_lr_y_pred)\n",
    "        print(\"GBDT-LR AUC Score: %.4g\" % auc)"
   ]
  },
  {
   "cell_type": "markdown",
   "metadata": {},
   "source": [
    "数据集拆分"
   ]
  },
  {
   "cell_type": "code",
   "execution_count": 24,
   "metadata": {},
   "outputs": [
    {
     "name": "stdout",
     "output_type": "stream",
     "text": [
      "Start Train Model...\n",
      "(6338, 100, 1)\n",
      "(6338, 100)\n"
     ]
    },
    {
     "name": "stderr",
     "output_type": "stream",
     "text": [
      "D:\\ProgramData\\Anaconda3\\lib\\site-packages\\sklearn\\preprocessing\\_encoders.py:415: FutureWarning: The handling of integer data will change in version 0.22. Currently, the categories are determined based on the range [0, max(values)], while in the future they will be determined based on the unique values.\n",
      "If you want the future behaviour and silence this warning, you can specify \"categories='auto'\".\n",
      "In case you used a LabelEncoder before this OneHotEncoder to convert the categories to integers, then you can now use the OneHotEncoder directly.\n",
      "  warnings.warn(msg, FutureWarning)\n",
      "D:\\ProgramData\\Anaconda3\\lib\\site-packages\\sklearn\\linear_model\\logistic.py:432: FutureWarning: Default solver will be changed to 'lbfgs' in 0.22. Specify a solver to silence this warning.\n",
      "  FutureWarning)\n"
     ]
    },
    {
     "name": "stdout",
     "output_type": "stream",
     "text": [
      "End Train Model.\n"
     ]
    }
   ],
   "source": [
    "x = ChurnPredWithGBDTAndLR()\n",
    "enc, gbdt, gbdt_lr = x.train_model()"
   ]
  },
  {
   "cell_type": "code",
   "execution_count": 25,
   "metadata": {},
   "outputs": [
    {
     "name": "stdout",
     "output_type": "stream",
     "text": [
      "GBDT MSE: 0.2113\n",
      "GBDT Accuracy: 0.7887\n",
      "GBDT AUC Score: 0.7147\n",
      "GBDT-LR MSE: 0.2553\n",
      "GBDT-LR Accuracy: 0.7447\n",
      "GBDT-LR AUC Score: 0.6649\n"
     ]
    }
   ],
   "source": [
    "x.evaluate(enc, gbdt, gdbt_lr)"
   ]
  },
  {
   "cell_type": "code",
   "execution_count": null,
   "metadata": {},
   "outputs": [],
   "source": []
  }
 ],
 "metadata": {
  "kernelspec": {
   "display_name": "Python 3",
   "language": "python",
   "name": "python3"
  },
  "language_info": {
   "codemirror_mode": {
    "name": "ipython",
    "version": 3
   },
   "file_extension": ".py",
   "mimetype": "text/x-python",
   "name": "python",
   "nbconvert_exporter": "python",
   "pygments_lexer": "ipython3",
   "version": "3.7.3"
  },
  "pycharm": {
   "stem_cell": {
    "cell_type": "raw",
    "metadata": {
     "collapsed": false
    },
    "source": []
   }
  }
 },
 "nbformat": 4,
 "nbformat_minor": 2
}
